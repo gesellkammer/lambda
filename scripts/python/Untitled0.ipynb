{
 "metadata": {
  "name": "",
  "signature": "sha256:a6a019d9561925f20e46252ddb54ba3fc704aead89699425210f1929216a391d"
 },
 "nbformat": 3,
 "nbformat_minor": 0,
 "worksheets": [
  {
   "cells": [
    {
     "cell_type": "code",
     "collapsed": false,
     "input": [
      "from scipy.signal import butter, lfilter\n",
      "\n",
      "def butter_bandpass(lowcut, highcut, fs, order=5):\n",
      "    nyq = 0.5 * fs\n",
      "    low = lowcut / nyq\n",
      "    high = highcut / nyq\n",
      "    b, a = butter(order, [low, high], btype='band')\n",
      "    return b, a\n",
      "    \n",
      "\n",
      "def butter_lowpass(lowcut, fs, order=5):\n",
      "    nyq = 0.5 * fs\n",
      "    low = lowcut / nyq\n",
      "    b, a = butter(order, low, btype='lowpass')\n",
      "    return b, a\n",
      "\n",
      "\n",
      "if True:\n",
      "    import numpy as np\n",
      "    import matplotlib.pyplot as plt\n",
      "    from scipy.signal import freqz  \n",
      "    # Sample rate and desired cutoff frequencies (in Hz).\n",
      "    fs = 44100\n",
      "    # Plot the frequency response for a few different orders.\n",
      "    plt.figure(1)\n",
      "    plt.clf()\n",
      "    for order in [1, 3, 5, 6, 9]:\n",
      "        b, a = butter_bandpass(1000, 2000, fs, order=order)\n",
      "        w, h = freqz(b, a, worN=4000) #np.logspace(-4, 3, 2000))\n",
      "        plt.semilogx((fs * 0.5 / np.pi) * w, abs(h), \n",
      "                     label=\"order = %d\" % order)  \n",
      "    plt.xlabel('Frequency (Hz)')\n",
      "    plt.ylabel('Gain')\n",
      "    plt.grid(True)\n",
      "    plt.legend(loc='best')\n",
      "\n",
      "    \n",
      "    plt.figure(2)\n",
      "    plt.clf()\n",
      "    for order in [1, 3, 5, 6, 9]:\n",
      "        b, a = butter_lowpass(1000, fs, order=order)\n",
      "        w, h = freqz(b, a, worN=2000) #np.logspace(-4, 3, 2000))\n",
      "        plt.semilogx((fs * 0.5 / np.pi) * w, abs(h), \n",
      "                     label=\"order = %d\" % order)  \n",
      "    plt.xlabel('Frequency (Hz)')\n",
      "    plt.ylabel('Gain')\n",
      "    plt.grid(True)\n",
      "    plt.legend(loc='best')\n",
      "    plt.show()\n",
      "    "
     ],
     "language": "python",
     "metadata": {},
     "outputs": [],
     "prompt_number": 10
    },
    {
     "cell_type": "code",
     "collapsed": false,
     "input": [],
     "language": "python",
     "metadata": {},
     "outputs": [],
     "prompt_number": 9
    },
    {
     "cell_type": "code",
     "collapsed": false,
     "input": [],
     "language": "python",
     "metadata": {},
     "outputs": []
    }
   ],
   "metadata": {}
  }
 ]
}