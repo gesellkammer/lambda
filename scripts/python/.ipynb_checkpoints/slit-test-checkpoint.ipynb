{
 "metadata": {
  "name": "",
  "signature": "sha256:8e8b3eac8a9ca2971460c48faf7f0ceca34ae7104e0b1483c23750560a7abf1f"
 },
 "nbformat": 3,
 "nbformat_minor": 0,
 "worksheets": [
  {
   "cells": [
    {
     "cell_type": "code",
     "collapsed": false,
     "input": [
      "import lambdasim"
     ],
     "language": "python",
     "metadata": {},
     "outputs": [],
     "prompt_number": 5
    },
    {
     "cell_type": "code",
     "collapsed": false,
     "input": [
      "ns_cm = lambdasim.conversions.samplerate2nodesize(44100) * 100\n",
      "print(\"Nodesize: %.1fcm\" % ns_cm)"
     ],
     "language": "python",
     "metadata": {},
     "outputs": [
      {
       "output_type": "stream",
       "stream": "stdout",
       "text": [
        "Nodesize: 1.1cm\n"
       ]
      }
     ],
     "prompt_number": 13
    },
    {
     "cell_type": "code",
     "collapsed": false,
     "input": [
      "s = lambdasim.Simulation(samplerate=44100, size=(3, 5), duration_ms=2000)"
     ],
     "language": "python",
     "metadata": {},
     "outputs": [],
     "prompt_number": 15
    },
    {
     "cell_type": "code",
     "collapsed": false,
     "input": [],
     "language": "python",
     "metadata": {},
     "outputs": []
    }
   ],
   "metadata": {}
  }
 ]
}