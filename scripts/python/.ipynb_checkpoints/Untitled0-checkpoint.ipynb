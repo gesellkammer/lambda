{
 "metadata": {
  "name": "",
  "signature": "sha256:85fcafd79ba829d00a6dc42694518cf1e8257189819c7928f21a31a86208f394"
 },
 "nbformat": 3,
 "nbformat_minor": 0,
 "worksheets": []
}