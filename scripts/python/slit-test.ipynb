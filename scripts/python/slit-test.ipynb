{
 "metadata": {
  "name": "",
  "signature": "sha256:519e8e1c8f5db30b4d8d0cbc5306ef5558633d22b0cc7d7107f8ed7b20e02db0"
 },
 "nbformat": 3,
 "nbformat_minor": 0,
 "worksheets": [
  {
   "cells": [
    {
     "cell_type": "code",
     "collapsed": false,
     "input": [
      "import lambdasim"
     ],
     "language": "python",
     "metadata": {},
     "outputs": [],
     "prompt_number": 5
    },
    {
     "cell_type": "code",
     "collapsed": false,
     "input": [
      "ns_cm = lambdasim.conversions.samplerate2nodesize(44100) * 100\n",
      "print(\"Nodesize: %.1fcm\" % ns_cm)"
     ],
     "language": "python",
     "metadata": {},
     "outputs": [
      {
       "output_type": "stream",
       "stream": "stdout",
       "text": [
        "Nodesize: 1.1cm\n"
       ]
      }
     ],
     "prompt_number": 13
    },
    {
     "cell_type": "code",
     "collapsed": false,
     "input": [
      "s = lambdasim.Simulation(samplerate=44100, size=(3, 5), duration_ms=2000)\n",
      "s.size_in_pixels()"
     ],
     "language": "python",
     "metadata": {},
     "outputs": [
      {
       "metadata": {},
       "output_type": "pyout",
       "prompt_number": 20,
       "text": [
        "(272, 454)"
       ]
      }
     ],
     "prompt_number": 20
    },
    {
     "cell_type": "code",
     "collapsed": false,
     "input": [
      "import shapelib"
     ],
     "language": "python",
     "metadata": {},
     "outputs": [],
     "prompt_number": 18
    },
    {
     "cell_type": "code",
     "collapsed": false,
     "input": [
      "x0, x1 = 0, s.size()[0]\n",
      "y0, y1 = 0, s.size()[1]"
     ],
     "language": "python",
     "metadata": {},
     "outputs": [],
     "prompt_number": 19
    },
    {
     "cell_type": "code",
     "collapsed": false,
     "input": [
      "# define source\n",
      "l = shapelib.line(x0, 1, x1, 1)\n",
      "s.source_from_geometry(l, )"
     ],
     "language": "python",
     "metadata": {},
     "outputs": [],
     "prompt_number": 21
    },
    {
     "cell_type": "code",
     "collapsed": false,
     "input": [
      "lambdasim.source_kinds.keys()"
     ],
     "language": "python",
     "metadata": {},
     "outputs": [
      {
       "metadata": {},
       "output_type": "pyout",
       "prompt_number": 22,
       "text": [
        "['hannsin',\n",
        " 'square',\n",
        " 'expdecay',\n",
        " 'deltapulse',\n",
        " 'sample',\n",
        " 'vel-hannsin',\n",
        " 'vel-deltapulse',\n",
        " 'pinknoise',\n",
        " 'vel-square',\n",
        " 'vel-expdecay',\n",
        " 'vel-sin',\n",
        " 'whitenoise',\n",
        " 'sin']"
       ]
      }
     ],
     "prompt_number": 22
    },
    {
     "cell_type": "code",
     "collapsed": false,
     "input": [],
     "language": "python",
     "metadata": {},
     "outputs": []
    }
   ],
   "metadata": {}
  }
 ]
}